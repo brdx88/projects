{
  "nbformat": 4,
  "nbformat_minor": 0,
  "metadata": {
    "colab": {
      "name": "Predicting BBRI Stock Price (R0).ipynb",
      "provenance": [],
      "collapsed_sections": []
    },
    "kernelspec": {
      "name": "python3",
      "display_name": "Python 3"
    }
  },
  "cells": [
    {
      "cell_type": "markdown",
      "metadata": {
        "id": "gP4jttOI7N-L",
        "colab_type": "text"
      },
      "source": [
        "# Predicting Closing Price of BBRI\n",
        "BBRI is the stock name of Bank Rakyat Indonesia. PT Bank Rakyat Indonesia (Persero) Tbk (People's Bank of Indonesia, commonly known as BRI or Bank BRI) is one of the largest banks in Indonesia. It specialises in small scale and microfinance style borrowing from and lending to its approximately 30 million retail clients through its over 4,000 branches, units and rural service posts. It also has a comparatively small, but growing, corporate business. As of 2010 it is the second largest bank in Indonesia by asset.\n",
        "\n",
        "This dataset can be found using [Pandas DataReader](https://pandas-datareader.readthedocs.io/en/latest/) and will pick from January 2008 to the end of May 2020. It will be more than 12 years. In this session, we will predict the closing price of BBRI with Long Short-Term Memory. \n",
        "\n",
        "Long short-term memory (LSTM) is an artificial recurrent neural network (RNN) architecture used in the field of deep learning. Unlike standard feedforward neural networks, LSTM has feedback connections. It can not only process single data points (such as images), but also entire sequences of data (such as speech or video). For example, LSTM is applicable to tasks such as unsegmented, connected handwriting recognition, speech recognition and anomaly detection in network traffic or IDS's (intrusion detection systems)."
      ]
    },
    {
      "cell_type": "markdown",
      "metadata": {
        "id": "lJlNfzbW7jSy",
        "colab_type": "text"
      },
      "source": [
        "## 1) Data Preparation\n",
        "Using Pandas DataReader, we can get dataset about the stock that we want to use. Of course we're using some libraries to make it happen."
      ]
    },
    {
      "cell_type": "code",
      "metadata": {
        "id": "hBwDKHiW67_i",
        "colab_type": "code",
        "colab": {}
      },
      "source": [
        "import numpy as np\n",
        "import pandas as pd\n",
        "import pandas_datareader as web\n",
        "import matplotlib.pyplot as plt\n",
        "plt.style.use('fivethirtyeight')"
      ],
      "execution_count": 0,
      "outputs": []
    },
    {
      "cell_type": "code",
      "metadata": {
        "id": "gnIwMYUd731B",
        "colab_type": "code",
        "outputId": "89ee4610-9162-4650-e263-c6b3515bed05",
        "colab": {
          "base_uri": "https://localhost:8080/",
          "height": 450
        }
      },
      "source": [
        "# BBRI\n",
        "bbri = web.DataReader('bbri.jk', 'yahoo', '2008-01-01', '2020-05-31')\n",
        "bbri"
      ],
      "execution_count": 0,
      "outputs": [
        {
          "output_type": "execute_result",
          "data": {
            "text/html": [
              "<div>\n",
              "<style scoped>\n",
              "    .dataframe tbody tr th:only-of-type {\n",
              "        vertical-align: middle;\n",
              "    }\n",
              "\n",
              "    .dataframe tbody tr th {\n",
              "        vertical-align: top;\n",
              "    }\n",
              "\n",
              "    .dataframe thead th {\n",
              "        text-align: right;\n",
              "    }\n",
              "</style>\n",
              "<table border=\"1\" class=\"dataframe\">\n",
              "  <thead>\n",
              "    <tr style=\"text-align: right;\">\n",
              "      <th></th>\n",
              "      <th>High</th>\n",
              "      <th>Low</th>\n",
              "      <th>Open</th>\n",
              "      <th>Close</th>\n",
              "      <th>Volume</th>\n",
              "      <th>Adj Close</th>\n",
              "    </tr>\n",
              "    <tr>\n",
              "      <th>Date</th>\n",
              "      <th></th>\n",
              "      <th></th>\n",
              "      <th></th>\n",
              "      <th></th>\n",
              "      <th></th>\n",
              "      <th></th>\n",
              "    </tr>\n",
              "  </thead>\n",
              "  <tbody>\n",
              "    <tr>\n",
              "      <th>2008-01-02</th>\n",
              "      <td>740.0</td>\n",
              "      <td>730.0</td>\n",
              "      <td>735.0</td>\n",
              "      <td>735.0</td>\n",
              "      <td>44765000.0</td>\n",
              "      <td>96.595680</td>\n",
              "    </tr>\n",
              "    <tr>\n",
              "      <th>2008-01-03</th>\n",
              "      <td>735.0</td>\n",
              "      <td>710.0</td>\n",
              "      <td>735.0</td>\n",
              "      <td>720.0</td>\n",
              "      <td>102940000.0</td>\n",
              "      <td>94.624344</td>\n",
              "    </tr>\n",
              "    <tr>\n",
              "      <th>2008-01-04</th>\n",
              "      <td>755.0</td>\n",
              "      <td>715.0</td>\n",
              "      <td>720.0</td>\n",
              "      <td>750.0</td>\n",
              "      <td>143670000.0</td>\n",
              "      <td>98.567032</td>\n",
              "    </tr>\n",
              "    <tr>\n",
              "      <th>2008-01-07</th>\n",
              "      <td>750.0</td>\n",
              "      <td>730.0</td>\n",
              "      <td>735.0</td>\n",
              "      <td>745.0</td>\n",
              "      <td>63700000.0</td>\n",
              "      <td>97.909927</td>\n",
              "    </tr>\n",
              "    <tr>\n",
              "      <th>2008-01-08</th>\n",
              "      <td>755.0</td>\n",
              "      <td>745.0</td>\n",
              "      <td>750.0</td>\n",
              "      <td>750.0</td>\n",
              "      <td>84225000.0</td>\n",
              "      <td>98.567032</td>\n",
              "    </tr>\n",
              "    <tr>\n",
              "      <th>...</th>\n",
              "      <td>...</td>\n",
              "      <td>...</td>\n",
              "      <td>...</td>\n",
              "      <td>...</td>\n",
              "      <td>...</td>\n",
              "      <td>...</td>\n",
              "    </tr>\n",
              "    <tr>\n",
              "      <th>2020-05-20</th>\n",
              "      <td>2500.0</td>\n",
              "      <td>2320.0</td>\n",
              "      <td>2360.0</td>\n",
              "      <td>2480.0</td>\n",
              "      <td>394395900.0</td>\n",
              "      <td>2480.000000</td>\n",
              "    </tr>\n",
              "    <tr>\n",
              "      <th>2020-05-26</th>\n",
              "      <td>2550.0</td>\n",
              "      <td>2470.0</td>\n",
              "      <td>2550.0</td>\n",
              "      <td>2520.0</td>\n",
              "      <td>404097300.0</td>\n",
              "      <td>2520.000000</td>\n",
              "    </tr>\n",
              "    <tr>\n",
              "      <th>2020-05-27</th>\n",
              "      <td>2630.0</td>\n",
              "      <td>2520.0</td>\n",
              "      <td>2540.0</td>\n",
              "      <td>2630.0</td>\n",
              "      <td>432813000.0</td>\n",
              "      <td>2630.000000</td>\n",
              "    </tr>\n",
              "    <tr>\n",
              "      <th>2020-05-28</th>\n",
              "      <td>2780.0</td>\n",
              "      <td>2640.0</td>\n",
              "      <td>2640.0</td>\n",
              "      <td>2730.0</td>\n",
              "      <td>453391300.0</td>\n",
              "      <td>2730.000000</td>\n",
              "    </tr>\n",
              "    <tr>\n",
              "      <th>2020-05-29</th>\n",
              "      <td>2950.0</td>\n",
              "      <td>2700.0</td>\n",
              "      <td>2700.0</td>\n",
              "      <td>2950.0</td>\n",
              "      <td>872607300.0</td>\n",
              "      <td>2950.000000</td>\n",
              "    </tr>\n",
              "  </tbody>\n",
              "</table>\n",
              "<p>3072 rows × 6 columns</p>\n",
              "</div>"
            ],
            "text/plain": [
              "              High     Low    Open   Close       Volume    Adj Close\n",
              "Date                                                                \n",
              "2008-01-02   740.0   730.0   735.0   735.0   44765000.0    96.595680\n",
              "2008-01-03   735.0   710.0   735.0   720.0  102940000.0    94.624344\n",
              "2008-01-04   755.0   715.0   720.0   750.0  143670000.0    98.567032\n",
              "2008-01-07   750.0   730.0   735.0   745.0   63700000.0    97.909927\n",
              "2008-01-08   755.0   745.0   750.0   750.0   84225000.0    98.567032\n",
              "...            ...     ...     ...     ...          ...          ...\n",
              "2020-05-20  2500.0  2320.0  2360.0  2480.0  394395900.0  2480.000000\n",
              "2020-05-26  2550.0  2470.0  2550.0  2520.0  404097300.0  2520.000000\n",
              "2020-05-27  2630.0  2520.0  2540.0  2630.0  432813000.0  2630.000000\n",
              "2020-05-28  2780.0  2640.0  2640.0  2730.0  453391300.0  2730.000000\n",
              "2020-05-29  2950.0  2700.0  2700.0  2950.0  872607300.0  2950.000000\n",
              "\n",
              "[3072 rows x 6 columns]"
            ]
          },
          "metadata": {
            "tags": []
          },
          "execution_count": 6
        }
      ]
    },
    {
      "cell_type": "code",
      "metadata": {
        "id": "V0b7vnq68vrv",
        "colab_type": "code",
        "outputId": "4ea587fd-3b0d-4008-f0a0-8f4430493165",
        "colab": {
          "base_uri": "https://localhost:8080/",
          "height": 572
        }
      },
      "source": [
        "# Let's visualize the Closing Price\n",
        "\n",
        "rolling_mean20 = bbri['Close'].rolling(window=20).mean()\n",
        "rolling_mean50 = bbri['Close'].rolling(window=50).mean()\n",
        "rolling_mean200 = bbri['Close'].rolling(window=200).mean()\n",
        "\n",
        "plt.figure(figsize = (16,8))\n",
        "plt.plot(bbri['Close'], color = 'b', label = 'BBRI Close')\n",
        "plt.plot(rolling_mean20, color = 'r', linewidth = 2.5, label = 'MA20')\n",
        "plt.plot(rolling_mean50, color = 'y', linewidth = 2.5, label = 'MA50')\n",
        "plt.plot(rolling_mean200, color = 'c',linewidth = 2.5, label = 'MA200')\n",
        "\n",
        "plt.xlabel('Date', fontsize = 15)\n",
        "plt.ylabel('Closing Price in Rupiah (Rp)', fontsize = 18)\n",
        "plt.title('Closing Price of BBRI')\n",
        "plt.legend(loc = 'lower right')"
      ],
      "execution_count": 0,
      "outputs": [
        {
          "output_type": "execute_result",
          "data": {
            "text/plain": [
              "<matplotlib.legend.Legend at 0x7f43b39812e8>"
            ]
          },
          "metadata": {
            "tags": []
          },
          "execution_count": 26
        },
        {
          "output_type": "display_data",
          "data": {
            "image/png": "[encoded data removed]",
            "text/plain": [
              "<Figure size 1152x576 with 1 Axes>"
            ]
          },
          "metadata": {
            "tags": []
          }
        }
      ]
    },
    {
      "cell_type": "markdown",
      "metadata": {
        "id": "iNy_4E2O4yz8",
        "colab_type": "text"
      },
      "source": [
        "Here the visualization of BBRI's closing price since 2008. Based on this graph, it's been a good money when you invest your money into this stock. Just saying. I'm showing you the Moving Average (MA) too withing 20, 50 and 200 days to make it more technical with these indicators."
      ]
    },
    {
      "cell_type": "markdown",
      "metadata": {
        "id": "AxhVMkwNBTd7",
        "colab_type": "text"
      },
      "source": [
        "## 2) Data Pre-processing\n",
        "Now let's straight to the pre-processing. We have to prepare up like splitting our dataset into Train and Test dataset. We do this by call some libraries from sklearn."
      ]
    },
    {
      "cell_type": "code",
      "metadata": {
        "id": "j6vMn86R9eCf",
        "colab_type": "code",
        "colab": {}
      },
      "source": [
        "# Don't forget to using 'values' attribute before apply it into Neural Network!\n",
        "\n",
        "X = bbri.drop('Close', axis = 1).values\n",
        "y = bbri['Close'].values"
      ],
      "execution_count": 0,
      "outputs": []
    },
    {
      "cell_type": "code",
      "metadata": {
        "id": "7EkDnUUvB8pX",
        "colab_type": "code",
        "colab": {}
      },
      "source": [
        "from sklearn.model_selection import train_test_split"
      ],
      "execution_count": 0,
      "outputs": []
    },
    {
      "cell_type": "code",
      "metadata": {
        "id": "pd2EgQSVCAyv",
        "colab_type": "code",
        "colab": {}
      },
      "source": [
        "# Split the Data into Train and Test dataset with 20% test size.\n",
        "X_train, X_test, y_train, y_test = train_test_split(X, y, test_size=0.2, random_state=101)"
      ],
      "execution_count": 0,
      "outputs": []
    },
    {
      "cell_type": "code",
      "metadata": {
        "id": "r8T0OQCnDbON",
        "colab_type": "code",
        "outputId": "1bd71082-cac3-4ec8-d686-519e39576d49",
        "colab": {
          "base_uri": "https://localhost:8080/",
          "height": 34
        }
      },
      "source": [
        "X_train.shape"
      ],
      "execution_count": 0,
      "outputs": [
        {
          "output_type": "execute_result",
          "data": {
            "text/plain": [
              "(2457, 5)"
            ]
          },
          "metadata": {
            "tags": []
          },
          "execution_count": 58
        }
      ]
    },
    {
      "cell_type": "markdown",
      "metadata": {
        "id": "KXcL1_UB66lG",
        "colab_type": "text"
      },
      "source": [
        "So, it's already splitted with 80:20. Notice our X_train size is 2457 (80% of the dataset)."
      ]
    },
    {
      "cell_type": "code",
      "metadata": {
        "id": "n_6mnaM6DHuw",
        "colab_type": "code",
        "colab": {}
      },
      "source": [
        "# Scale it with MinMaxScaler\n",
        "from sklearn.preprocessing import MinMaxScaler"
      ],
      "execution_count": 0,
      "outputs": []
    },
    {
      "cell_type": "code",
      "metadata": {
        "id": "ND0ZzOOPDXYS",
        "colab_type": "code",
        "colab": {}
      },
      "source": [
        "scaler = MinMaxScaler()"
      ],
      "execution_count": 0,
      "outputs": []
    },
    {
      "cell_type": "code",
      "metadata": {
        "id": "qE-Bw_PtD7Qc",
        "colab_type": "code",
        "colab": {}
      },
      "source": [
        "X_train = scaler.fit_transform(X_train)\n",
        "X_test = scaler.fit_transform(X_test)"
      ],
      "execution_count": 0,
      "outputs": []
    },
    {
      "cell_type": "markdown",
      "metadata": {
        "id": "OKbcHcW77fvN",
        "colab_type": "text"
      },
      "source": [
        "After scaling our X dataset, we should reshape our dataset into proper one. Especially on X dataset, we should turn it into 3-dimensional data before apply it to LSTM NN model or you'll get some advices from the notebook."
      ]
    },
    {
      "cell_type": "code",
      "metadata": {
        "id": "Hl35pvrSFT1h",
        "colab_type": "code",
        "colab": {}
      },
      "source": [
        "y_train = y_train.reshape(-1,1)\n",
        "y_test = y_test.reshape(-1,1)"
      ],
      "execution_count": 0,
      "outputs": []
    },
    {
      "cell_type": "code",
      "metadata": {
        "id": "99qdvVHvIYpn",
        "colab_type": "code",
        "colab": {}
      },
      "source": [
        "# Reshape it into 3-dimensional before input it into LSTM Model.\n",
        "# Reshape the data to be 3-dimensional in the form [number of samples, number of time steps, and number of features].\n",
        "\n",
        "X_train = np.reshape(X_train, (X_train.shape[0], X_train.shape[1], 1))\n",
        "X_test = np.reshape(X_test, (X_test.shape[0], X_test.shape[1], 1))"
      ],
      "execution_count": 0,
      "outputs": []
    },
    {
      "cell_type": "markdown",
      "metadata": {
        "id": "xC9Zxag1H_Tf",
        "colab_type": "text"
      },
      "source": [
        "## 3) Make a LSTM Model\n",
        "Long Short Term Memory networks – usually just called “LSTMs” – are a special kind of RNN, capable of learning long-term dependencies. They were introduced by Hochreiter & Schmidhuber (1997), and were refined and popularized by many people in following work.1 They work tremendously well on a large variety of problems, and are now widely used.\n",
        "\n",
        "LSTMs are explicitly designed to avoid the long-term dependency problem. Remembering information for long periods of time is practically their default behavior, not something they struggle to learn!\n",
        "\n",
        "All recurrent neural networks have the form of a chain of repeating modules of neural network. In standard RNNs, this repeating module will have a very simple structure, such as a single tanh layer. ([source](https://colah.github.io/posts/2015-08-Understanding-LSTMs/))\n",
        "![LSTM](https://upload.wikimedia.org/wikipedia/commons/3/3b/The_LSTM_cell.png)\n"
      ]
    },
    {
      "cell_type": "code",
      "metadata": {
        "id": "3_XlA_3qHqEa",
        "colab_type": "code",
        "colab": {}
      },
      "source": [
        "from tensorflow.keras.models import Sequential\n",
        "from tensorflow.keras.layers import Dense, Dropout, LSTM"
      ],
      "execution_count": 0,
      "outputs": []
    },
    {
      "cell_type": "markdown",
      "metadata": {
        "id": "uqxGqBlJ9jqa",
        "colab_type": "text"
      },
      "source": [
        "We use 5 neurons in input layer because we have 5 features along training our model. We add 1 hidden layer with 5 neurons and also [ReLU](https://medium.com/@danqing/a-practical-guide-to-relu-b83ca804f1f7) activation. Finally adding 1 layer for output. We choose [Adam](https://machinelearningmastery.com/adam-optimization-algorithm-for-deep-learning/) optimizer with mean squared error for calculating model's loss."
      ]
    },
    {
      "cell_type": "code",
      "metadata": {
        "id": "jBh8gSL_MipV",
        "colab_type": "code",
        "outputId": "c375e453-796f-4fd4-a940-28debd382180",
        "colab": {
          "base_uri": "https://localhost:8080/",
          "height": 85
        }
      },
      "source": [
        "# just to remember our dataset shape\n",
        "\n",
        "print(X_train.shape)\n",
        "print(y_train.shape)\n",
        "print(X_test.shape)\n",
        "print(y_test.shape)"
      ],
      "execution_count": 0,
      "outputs": [
        {
          "output_type": "stream",
          "text": [
            "(2457, 5, 1)\n",
            "(2457, 1)\n",
            "(615, 5, 1)\n",
            "(615, 1)\n"
          ],
          "name": "stdout"
        }
      ]
    },
    {
      "cell_type": "code",
      "metadata": {
        "id": "KlpgDjOoIw7x",
        "colab_type": "code",
        "colab": {}
      },
      "source": [
        "model = Sequential()\n",
        "\n",
        "# input layer\n",
        "model.add(LSTM(5, return_sequences=True, input_shape=(X_train.shape[1],1)))\n",
        "model.add(LSTM(5, return_sequences= False))\n",
        "\n",
        "# hidden layer\n",
        "model.add(Dense(5, activation='relu'))\n",
        "model.add(Dense(5, activation='relu'))\n",
        "\n",
        "# output layer\n",
        "model.add(Dense(1))\n",
        "\n",
        "# compiler\n",
        "model.compile(optimizer='adam', loss = 'mse')"
      ],
      "execution_count": 0,
      "outputs": []
    },
    {
      "cell_type": "markdown",
      "metadata": {
        "id": "RV-BEGWx-irC",
        "colab_type": "text"
      },
      "source": [
        "I love efficiency, so I add Callbacks feature to the model with [EarlyStopping](https://machinelearningmastery.com/early-stopping-to-avoid-overtraining-neural-network-models/) from TensorFlow to avoid overfitting and improve generalization."
      ]
    },
    {
      "cell_type": "code",
      "metadata": {
        "id": "_9Y1FhGzJm9X",
        "colab_type": "code",
        "colab": {}
      },
      "source": [
        "from tensorflow.keras.callbacks import EarlyStopping"
      ],
      "execution_count": 0,
      "outputs": []
    },
    {
      "cell_type": "code",
      "metadata": {
        "id": "FYIwlZkhJs4J",
        "colab_type": "code",
        "colab": {}
      },
      "source": [
        "early_stop = EarlyStopping(monitor = 'val_loss', mode = 'min', verbose = 1, patience = 25)"
      ],
      "execution_count": 0,
      "outputs": []
    },
    {
      "cell_type": "markdown",
      "metadata": {
        "id": "SzaF2rJo_qwT",
        "colab_type": "text"
      },
      "source": [
        "I set epochs to 500 iterations, but at the same time I do believe this model won't iterate more than 500 cause EarlyStopping will save us."
      ]
    },
    {
      "cell_type": "code",
      "metadata": {
        "id": "SAF7_DiOKnej",
        "colab_type": "code",
        "outputId": "cb826f9c-683c-4a96-ec03-5e005c754fb3",
        "colab": {
          "base_uri": "https://localhost:8080/",
          "height": 1000
        }
      },
      "source": [
        "# Let's train our model!\n",
        "\n",
        "model.fit(x = X_train,\n",
        "          y = y_train,\n",
        "          validation_data = (X_test, y_test),\n",
        "          epochs = 500, \n",
        "          callbacks = [early_stop])"
      ],
      "execution_count": 0,
      "outputs": [
        {
          "output_type": "stream",
          "text": [
            "Epoch 1/500\n",
            "77/77 [==============================] - 1s 14ms/step - loss: 5241865.0000 - val_loss: 5459447.5000\n",
            "Epoch 2/500\n",
            "77/77 [==============================] - 0s 6ms/step - loss: 5239880.5000 - val_loss: 5455414.5000\n",
            "Epoch 3/500\n",
            "77/77 [==============================] - 1s 7ms/step - loss: 5231770.0000 - val_loss: 5443294.0000\n",
            "Epoch 4/500\n",
            "77/77 [==============================] - 1s 8ms/step - loss: 5217286.5000 - val_loss: 5426387.5000\n",
            "Epoch 5/500\n",
            "77/77 [==============================] - 0s 6ms/step - loss: 5198236.0000 - val_loss: 5404889.0000\n",
            "Epoch 6/500\n",
            "77/77 [==============================] - 1s 7ms/step - loss: 5174009.5000 - val_loss: 5377636.0000\n",
            "Epoch 7/500\n",
            "77/77 [==============================] - 1s 7ms/step - loss: 5143811.0000 - val_loss: 5343848.5000\n",
            "Epoch 8/500\n",
            "77/77 [==============================] - 1s 8ms/step - loss: 5106931.0000 - val_loss: 5303201.5000\n",
            "Epoch 9/500\n",
            "77/77 [==============================] - 1s 8ms/step - loss: 5062730.0000 - val_loss: 5255062.5000\n",
            "Epoch 10/500\n",
            "77/77 [==============================] - 1s 7ms/step - loss: 5010795.0000 - val_loss: 5198709.5000\n",
            "Epoch 11/500\n",
            "77/77 [==============================] - 1s 8ms/step - loss: 4950696.5000 - val_loss: 5134295.0000\n",
            "Epoch 12/500\n",
            "77/77 [==============================] - 1s 9ms/step - loss: 4882223.0000 - val_loss: 5061108.0000\n",
            "Epoch 13/500\n",
            "77/77 [==============================] - 1s 8ms/step - loss: 4805323.5000 - val_loss: 4979517.0000\n",
            "Epoch 14/500\n",
            "77/77 [==============================] - 1s 8ms/step - loss: 4720092.0000 - val_loss: 4889535.0000\n",
            "Epoch 15/500\n",
            "77/77 [==============================] - 1s 7ms/step - loss: 4626468.5000 - val_loss: 4791497.0000\n",
            "Epoch 16/500\n",
            "77/77 [==============================] - 1s 8ms/step - loss: 4524714.0000 - val_loss: 4685160.0000\n",
            "Epoch 17/500\n",
            "77/77 [==============================] - 1s 7ms/step - loss: 4415266.5000 - val_loss: 4571075.0000\n",
            "Epoch 18/500\n",
            "77/77 [==============================] - 1s 7ms/step - loss: 4298376.5000 - val_loss: 4450812.5000\n",
            "Epoch 19/500\n",
            "77/77 [==============================] - 1s 7ms/step - loss: 4175007.5000 - val_loss: 4322482.0000\n",
            "Epoch 20/500\n",
            "77/77 [==============================] - 1s 7ms/step - loss: 4045125.5000 - val_loss: 4189957.5000\n",
            "Epoch 21/500\n",
            "77/77 [==============================] - 1s 7ms/step - loss: 3910323.0000 - val_loss: 4051408.2500\n",
            "Epoch 22/500\n",
            "77/77 [==============================] - 1s 7ms/step - loss: 3770729.0000 - val_loss: 3909046.7500\n",
            "Epoch 23/500\n",
            "77/77 [==============================] - 0s 6ms/step - loss: 3627456.7500 - val_loss: 3764058.0000\n",
            "Epoch 24/500\n",
            "77/77 [==============================] - 0s 6ms/step - loss: 3481481.7500 - val_loss: 3616051.2500\n",
            "Epoch 25/500\n",
            "77/77 [==============================] - 1s 8ms/step - loss: 3333714.0000 - val_loss: 3466197.7500\n",
            "Epoch 26/500\n",
            "77/77 [==============================] - 0s 6ms/step - loss: 3185075.2500 - val_loss: 3317697.0000\n",
            "Epoch 27/500\n",
            "77/77 [==============================] - 1s 7ms/step - loss: 3036931.5000 - val_loss: 3168305.0000\n",
            "Epoch 28/500\n",
            "77/77 [==============================] - 0s 6ms/step - loss: 2890054.0000 - val_loss: 3020968.7500\n",
            "Epoch 29/500\n",
            "77/77 [==============================] - 1s 7ms/step - loss: 2745387.7500 - val_loss: 2878443.7500\n",
            "Epoch 30/500\n",
            "77/77 [==============================] - 0s 6ms/step - loss: 2604658.5000 - val_loss: 2737169.2500\n",
            "Epoch 31/500\n",
            "77/77 [==============================] - 1s 7ms/step - loss: 2467622.7500 - val_loss: 2602899.5000\n",
            "Epoch 32/500\n",
            "77/77 [==============================] - 0s 6ms/step - loss: 2336129.5000 - val_loss: 2473317.5000\n",
            "Epoch 33/500\n",
            "77/77 [==============================] - 1s 7ms/step - loss: 2210888.7500 - val_loss: 2349940.7500\n",
            "Epoch 34/500\n",
            "77/77 [==============================] - 1s 7ms/step - loss: 2092174.3750 - val_loss: 2234167.5000\n",
            "Epoch 35/500\n",
            "77/77 [==============================] - 1s 7ms/step - loss: 1980970.8750 - val_loss: 2126601.7500\n",
            "Epoch 36/500\n",
            "77/77 [==============================] - 1s 7ms/step - loss: 1877734.2500 - val_loss: 2026306.7500\n",
            "Epoch 37/500\n",
            "77/77 [==============================] - 1s 7ms/step - loss: 1782910.7500 - val_loss: 1933340.8750\n",
            "Epoch 38/500\n",
            "77/77 [==============================] - 1s 7ms/step - loss: 1696316.3750 - val_loss: 1851343.1250\n",
            "Epoch 39/500\n",
            "77/77 [==============================] - 1s 7ms/step - loss: 1618561.6250 - val_loss: 1777269.0000\n",
            "Epoch 40/500\n",
            "77/77 [==============================] - 0s 6ms/step - loss: 1549762.8750 - val_loss: 1710258.8750\n",
            "Epoch 41/500\n",
            "77/77 [==============================] - 1s 7ms/step - loss: 1488796.7500 - val_loss: 1654583.6250\n",
            "Epoch 42/500\n",
            "77/77 [==============================] - 0s 6ms/step - loss: 1436411.5000 - val_loss: 1604126.2500\n",
            "Epoch 43/500\n",
            "77/77 [==============================] - 1s 7ms/step - loss: 1391329.1250 - val_loss: 1562184.7500\n",
            "Epoch 44/500\n",
            "77/77 [==============================] - 1s 7ms/step - loss: 1353473.7500 - val_loss: 1527080.3750\n",
            "Epoch 45/500\n",
            "77/77 [==============================] - 1s 7ms/step - loss: 1321958.3750 - val_loss: 1497987.3750\n",
            "Epoch 46/500\n",
            "77/77 [==============================] - 0s 6ms/step - loss: 1296423.6250 - val_loss: 1473661.2500\n",
            "Epoch 47/500\n",
            "77/77 [==============================] - 0s 6ms/step - loss: 1275714.0000 - val_loss: 1455325.8750\n",
            "Epoch 48/500\n",
            "77/77 [==============================] - 0s 6ms/step - loss: 1259777.5000 - val_loss: 1440362.7500\n",
            "Epoch 49/500\n",
            "77/77 [==============================] - 0s 6ms/step - loss: 1247251.7500 - val_loss: 1429583.7500\n",
            "Epoch 50/500\n",
            "77/77 [==============================] - 1s 7ms/step - loss: 1166354.0000 - val_loss: 1043279.5000\n",
            "Epoch 51/500\n",
            "77/77 [==============================] - 1s 7ms/step - loss: 809932.6250 - val_loss: 914489.4375\n",
            "Epoch 52/500\n",
            "77/77 [==============================] - 0s 6ms/step - loss: 720492.1875 - val_loss: 827963.6875\n",
            "Epoch 53/500\n",
            "77/77 [==============================] - 0s 6ms/step - loss: 645780.1250 - val_loss: 749154.0000\n",
            "Epoch 54/500\n",
            "77/77 [==============================] - 1s 7ms/step - loss: 579935.2500 - val_loss: 680516.5625\n",
            "Epoch 55/500\n",
            "77/77 [==============================] - 0s 6ms/step - loss: 521877.0938 - val_loss: 617615.6250\n",
            "Epoch 56/500\n",
            "77/77 [==============================] - 1s 7ms/step - loss: 469934.8750 - val_loss: 562995.7500\n",
            "Epoch 57/500\n",
            "77/77 [==============================] - 0s 6ms/step - loss: 423527.5000 - val_loss: 513981.5938\n",
            "Epoch 58/500\n",
            "77/77 [==============================] - 0s 6ms/step - loss: 381693.2500 - val_loss: 466410.4062\n",
            "Epoch 59/500\n",
            "77/77 [==============================] - 0s 6ms/step - loss: 343530.4688 - val_loss: 423689.2188\n",
            "Epoch 60/500\n",
            "77/77 [==============================] - 0s 6ms/step - loss: 308609.2812 - val_loss: 385007.4688\n",
            "Epoch 61/500\n",
            "77/77 [==============================] - 0s 6ms/step - loss: 276690.9688 - val_loss: 346689.7812\n",
            "Epoch 62/500\n",
            "77/77 [==============================] - 1s 7ms/step - loss: 247458.8281 - val_loss: 312892.8750\n",
            "Epoch 63/500\n",
            "77/77 [==============================] - 0s 6ms/step - loss: 221203.9219 - val_loss: 281916.9062\n",
            "Epoch 64/500\n",
            "77/77 [==============================] - 1s 7ms/step - loss: 197569.3906 - val_loss: 253540.2188\n",
            "Epoch 65/500\n",
            "77/77 [==============================] - 1s 7ms/step - loss: 176480.3125 - val_loss: 228646.7969\n",
            "Epoch 66/500\n",
            "77/77 [==============================] - 1s 7ms/step - loss: 157724.7031 - val_loss: 206062.7656\n",
            "Epoch 67/500\n",
            "77/77 [==============================] - 1s 7ms/step - loss: 141043.1875 - val_loss: 185837.7031\n",
            "Epoch 68/500\n",
            "77/77 [==============================] - 0s 6ms/step - loss: 126105.4766 - val_loss: 167226.7500\n",
            "Epoch 69/500\n",
            "77/77 [==============================] - 0s 6ms/step - loss: 112612.1797 - val_loss: 149936.0938\n",
            "Epoch 70/500\n",
            "77/77 [==============================] - 1s 7ms/step - loss: 100357.7734 - val_loss: 134721.3906\n",
            "Epoch 71/500\n",
            "77/77 [==============================] - 0s 6ms/step - loss: 89376.5312 - val_loss: 120483.0469\n",
            "Epoch 72/500\n",
            "77/77 [==============================] - 1s 7ms/step - loss: 79412.4219 - val_loss: 107610.3516\n",
            "Epoch 73/500\n",
            "77/77 [==============================] - 1s 7ms/step - loss: 70451.9297 - val_loss: 96278.5000\n",
            "Epoch 74/500\n",
            "77/77 [==============================] - 0s 6ms/step - loss: 62377.6445 - val_loss: 85761.6406\n",
            "Epoch 75/500\n",
            "77/77 [==============================] - 1s 7ms/step - loss: 55248.4023 - val_loss: 76119.7578\n",
            "Epoch 76/500\n",
            "77/77 [==============================] - 1s 8ms/step - loss: 48822.3359 - val_loss: 68030.7891\n",
            "Epoch 77/500\n",
            "77/77 [==============================] - 1s 7ms/step - loss: 43230.1250 - val_loss: 60438.8867\n",
            "Epoch 78/500\n",
            "77/77 [==============================] - 0s 6ms/step - loss: 38210.6484 - val_loss: 53742.6055\n",
            "Epoch 79/500\n",
            "77/77 [==============================] - 1s 7ms/step - loss: 33806.2305 - val_loss: 47831.6445\n",
            "Epoch 80/500\n",
            "77/77 [==============================] - 0s 6ms/step - loss: 29920.3867 - val_loss: 42509.6484\n",
            "Epoch 81/500\n",
            "77/77 [==============================] - 1s 7ms/step - loss: 26515.3965 - val_loss: 37951.7578\n",
            "Epoch 82/500\n",
            "77/77 [==============================] - 1s 7ms/step - loss: 23501.7969 - val_loss: 33577.4453\n",
            "Epoch 83/500\n",
            "77/77 [==============================] - 1s 7ms/step - loss: 20819.8809 - val_loss: 29988.5234\n",
            "Epoch 84/500\n",
            "77/77 [==============================] - 0s 6ms/step - loss: 18463.5234 - val_loss: 26837.9355\n",
            "Epoch 85/500\n",
            "77/77 [==============================] - 0s 6ms/step - loss: 16409.0703 - val_loss: 23750.6406\n",
            "Epoch 86/500\n",
            "77/77 [==============================] - 0s 6ms/step - loss: 14589.0225 - val_loss: 21218.9160\n",
            "Epoch 87/500\n",
            "77/77 [==============================] - 1s 7ms/step - loss: 12950.5859 - val_loss: 18917.0391\n",
            "Epoch 88/500\n",
            "77/77 [==============================] - 1s 6ms/step - loss: 11517.2051 - val_loss: 17013.5625\n",
            "Epoch 89/500\n",
            "77/77 [==============================] - 1s 7ms/step - loss: 10262.8877 - val_loss: 15240.8242\n",
            "Epoch 90/500\n",
            "77/77 [==============================] - 0s 6ms/step - loss: 9104.6592 - val_loss: 13394.8369\n",
            "Epoch 91/500\n",
            "77/77 [==============================] - 0s 6ms/step - loss: 8129.3560 - val_loss: 12025.1133\n",
            "Epoch 92/500\n",
            "77/77 [==============================] - 0s 6ms/step - loss: 7207.3652 - val_loss: 10558.0732\n",
            "Epoch 93/500\n",
            "77/77 [==============================] - 0s 6ms/step - loss: 6417.1875 - val_loss: 9449.8115\n",
            "Epoch 94/500\n",
            "77/77 [==============================] - 0s 6ms/step - loss: 5750.0732 - val_loss: 8441.9756\n",
            "Epoch 95/500\n",
            "77/77 [==============================] - 0s 6ms/step - loss: 5136.7476 - val_loss: 7596.5757\n",
            "Epoch 96/500\n",
            "77/77 [==============================] - 1s 7ms/step - loss: 4612.0742 - val_loss: 6871.9585\n",
            "Epoch 97/500\n",
            "77/77 [==============================] - 1s 7ms/step - loss: 4172.6772 - val_loss: 6278.0620\n",
            "Epoch 98/500\n",
            "77/77 [==============================] - 0s 6ms/step - loss: 3751.3691 - val_loss: 5558.5596\n",
            "Epoch 99/500\n",
            "77/77 [==============================] - 0s 6ms/step - loss: 3376.7385 - val_loss: 5170.9380\n",
            "Epoch 100/500\n",
            "77/77 [==============================] - 0s 6ms/step - loss: 3085.6133 - val_loss: 4860.0742\n",
            "Epoch 101/500\n",
            "77/77 [==============================] - 1s 7ms/step - loss: 2793.9385 - val_loss: 4271.5688\n",
            "Epoch 102/500\n",
            "77/77 [==============================] - 1s 7ms/step - loss: 2561.9414 - val_loss: 3977.4780\n",
            "Epoch 103/500\n",
            "77/77 [==============================] - 1s 7ms/step - loss: 2345.2988 - val_loss: 3670.9424\n",
            "Epoch 104/500\n",
            "77/77 [==============================] - 1s 7ms/step - loss: 2152.9404 - val_loss: 3326.2664\n",
            "Epoch 105/500\n",
            "77/77 [==============================] - 0s 6ms/step - loss: 2023.6378 - val_loss: 3259.6406\n",
            "Epoch 106/500\n",
            "77/77 [==============================] - 0s 6ms/step - loss: 1882.6837 - val_loss: 2872.4180\n",
            "Epoch 107/500\n",
            "77/77 [==============================] - 1s 7ms/step - loss: 1757.3365 - val_loss: 2784.4209\n",
            "Epoch 108/500\n",
            "77/77 [==============================] - 1s 7ms/step - loss: 1639.8662 - val_loss: 2476.7852\n",
            "Epoch 109/500\n",
            "77/77 [==============================] - 0s 6ms/step - loss: 1540.4978 - val_loss: 2458.0664\n",
            "Epoch 110/500\n",
            "77/77 [==============================] - 0s 6ms/step - loss: 1478.1254 - val_loss: 2451.4204\n",
            "Epoch 111/500\n",
            "77/77 [==============================] - 1s 7ms/step - loss: 1348.3959 - val_loss: 2257.8562\n",
            "Epoch 112/500\n",
            "77/77 [==============================] - 1s 7ms/step - loss: 1277.6696 - val_loss: 2385.1899\n",
            "Epoch 113/500\n",
            "77/77 [==============================] - 0s 6ms/step - loss: 1245.3511 - val_loss: 2154.1335\n",
            "Epoch 114/500\n",
            "77/77 [==============================] - 0s 6ms/step - loss: 1234.5768 - val_loss: 1791.9789\n",
            "Epoch 115/500\n",
            "77/77 [==============================] - 0s 6ms/step - loss: 1131.3112 - val_loss: 1807.1715\n",
            "Epoch 116/500\n",
            "77/77 [==============================] - 0s 6ms/step - loss: 1071.8878 - val_loss: 1869.2539\n",
            "Epoch 117/500\n",
            "77/77 [==============================] - 1s 7ms/step - loss: 1029.5192 - val_loss: 1832.8334\n",
            "Epoch 118/500\n",
            "77/77 [==============================] - 0s 6ms/step - loss: 1042.2119 - val_loss: 1637.2396\n",
            "Epoch 119/500\n",
            "77/77 [==============================] - 0s 6ms/step - loss: 990.5071 - val_loss: 1409.0396\n",
            "Epoch 120/500\n",
            "77/77 [==============================] - 0s 6ms/step - loss: 959.0646 - val_loss: 1937.2565\n",
            "Epoch 121/500\n",
            "77/77 [==============================] - 1s 7ms/step - loss: 926.5249 - val_loss: 1829.0605\n",
            "Epoch 122/500\n",
            "77/77 [==============================] - 1s 7ms/step - loss: 923.0770 - val_loss: 1226.7706\n",
            "Epoch 123/500\n",
            "77/77 [==============================] - 0s 6ms/step - loss: 872.3173 - val_loss: 1575.9969\n",
            "Epoch 124/500\n",
            "77/77 [==============================] - 1s 7ms/step - loss: 845.8549 - val_loss: 1275.9933\n",
            "Epoch 125/500\n",
            "77/77 [==============================] - 0s 6ms/step - loss: 827.5680 - val_loss: 1448.4554\n",
            "Epoch 126/500\n",
            "77/77 [==============================] - 0s 6ms/step - loss: 845.4312 - val_loss: 1113.1964\n",
            "Epoch 127/500\n",
            "77/77 [==============================] - 1s 7ms/step - loss: 803.5367 - val_loss: 1039.8099\n",
            "Epoch 128/500\n",
            "77/77 [==============================] - 0s 6ms/step - loss: 807.5084 - val_loss: 1216.6130\n",
            "Epoch 129/500\n",
            "77/77 [==============================] - 1s 8ms/step - loss: 802.8543 - val_loss: 1034.0911\n",
            "Epoch 130/500\n",
            "77/77 [==============================] - 1s 7ms/step - loss: 776.9531 - val_loss: 1159.1781\n",
            "Epoch 131/500\n",
            "77/77 [==============================] - 1s 7ms/step - loss: 797.3336 - val_loss: 1259.3417\n",
            "Epoch 132/500\n",
            "77/77 [==============================] - 0s 6ms/step - loss: 767.9112 - val_loss: 1273.1747\n",
            "Epoch 133/500\n",
            "77/77 [==============================] - 0s 6ms/step - loss: 760.5292 - val_loss: 1112.4937\n",
            "Epoch 134/500\n",
            "77/77 [==============================] - 0s 6ms/step - loss: 763.2816 - val_loss: 917.5915\n",
            "Epoch 135/500\n",
            "77/77 [==============================] - 1s 7ms/step - loss: 765.4567 - val_loss: 1200.0787\n",
            "Epoch 136/500\n",
            "77/77 [==============================] - 0s 6ms/step - loss: 709.7877 - val_loss: 1226.3959\n",
            "Epoch 137/500\n",
            "77/77 [==============================] - 0s 6ms/step - loss: 714.5056 - val_loss: 874.5903\n",
            "Epoch 138/500\n",
            "77/77 [==============================] - 0s 6ms/step - loss: 702.1250 - val_loss: 1149.5959\n",
            "Epoch 139/500\n",
            "77/77 [==============================] - 1s 7ms/step - loss: 712.7780 - val_loss: 880.3879\n",
            "Epoch 140/500\n",
            "77/77 [==============================] - 1s 7ms/step - loss: 677.4097 - val_loss: 1069.6167\n",
            "Epoch 141/500\n",
            "77/77 [==============================] - 1s 7ms/step - loss: 718.7577 - val_loss: 997.1612\n",
            "Epoch 142/500\n",
            "77/77 [==============================] - 0s 6ms/step - loss: 712.9652 - val_loss: 1148.1774\n",
            "Epoch 143/500\n",
            "77/77 [==============================] - 1s 7ms/step - loss: 697.5185 - val_loss: 885.1531\n",
            "Epoch 144/500\n",
            "77/77 [==============================] - 0s 6ms/step - loss: 688.1895 - val_loss: 1162.6379\n",
            "Epoch 145/500\n",
            "77/77 [==============================] - 0s 6ms/step - loss: 690.3262 - val_loss: 1702.6720\n",
            "Epoch 146/500\n",
            "77/77 [==============================] - 0s 6ms/step - loss: 685.3967 - val_loss: 911.2556\n",
            "Epoch 147/500\n",
            "77/77 [==============================] - 1s 7ms/step - loss: 665.3410 - val_loss: 979.9355\n",
            "Epoch 148/500\n",
            "77/77 [==============================] - 0s 6ms/step - loss: 702.8372 - val_loss: 1007.6531\n",
            "Epoch 149/500\n",
            "77/77 [==============================] - 1s 7ms/step - loss: 671.1909 - val_loss: 1408.1433\n",
            "Epoch 150/500\n",
            "77/77 [==============================] - 0s 6ms/step - loss: 686.8180 - val_loss: 1167.8737\n",
            "Epoch 151/500\n",
            "77/77 [==============================] - 0s 6ms/step - loss: 687.5104 - val_loss: 930.5416\n",
            "Epoch 152/500\n",
            "77/77 [==============================] - 0s 6ms/step - loss: 680.9656 - val_loss: 833.8544\n",
            "Epoch 153/500\n",
            "77/77 [==============================] - 1s 7ms/step - loss: 671.0289 - val_loss: 922.9219\n",
            "Epoch 154/500\n",
            "77/77 [==============================] - 1s 7ms/step - loss: 685.5127 - val_loss: 985.8946\n",
            "Epoch 155/500\n",
            "77/77 [==============================] - 1s 7ms/step - loss: 656.8735 - val_loss: 776.5610\n",
            "Epoch 156/500\n",
            "77/77 [==============================] - 0s 6ms/step - loss: 680.4862 - val_loss: 884.7821\n",
            "Epoch 157/500\n",
            "77/77 [==============================] - 1s 7ms/step - loss: 682.7278 - val_loss: 1154.8317\n",
            "Epoch 158/500\n",
            "77/77 [==============================] - 0s 6ms/step - loss: 666.3830 - val_loss: 753.4161\n",
            "Epoch 159/500\n",
            "77/77 [==============================] - 1s 7ms/step - loss: 677.4918 - val_loss: 1055.9062\n",
            "Epoch 160/500\n",
            "77/77 [==============================] - 1s 7ms/step - loss: 669.9641 - val_loss: 980.2269\n",
            "Epoch 161/500\n",
            "77/77 [==============================] - 0s 6ms/step - loss: 670.6584 - val_loss: 808.8676\n",
            "Epoch 162/500\n",
            "77/77 [==============================] - 0s 6ms/step - loss: 658.2221 - val_loss: 1031.8300\n",
            "Epoch 163/500\n",
            "77/77 [==============================] - 1s 7ms/step - loss: 682.8271 - val_loss: 782.9387\n",
            "Epoch 164/500\n",
            "77/77 [==============================] - 1s 7ms/step - loss: 691.4007 - val_loss: 1199.3448\n",
            "Epoch 165/500\n",
            "77/77 [==============================] - 0s 6ms/step - loss: 703.2977 - val_loss: 896.5828\n",
            "Epoch 166/500\n",
            "77/77 [==============================] - 1s 7ms/step - loss: 706.3740 - val_loss: 1095.1726\n",
            "Epoch 167/500\n",
            "77/77 [==============================] - 0s 6ms/step - loss: 692.5677 - val_loss: 1085.5045\n",
            "Epoch 168/500\n",
            "77/77 [==============================] - 1s 7ms/step - loss: 642.0560 - val_loss: 1005.2756\n",
            "Epoch 169/500\n",
            "77/77 [==============================] - 0s 6ms/step - loss: 680.9231 - val_loss: 817.2775\n",
            "Epoch 170/500\n",
            "77/77 [==============================] - 0s 6ms/step - loss: 694.5154 - val_loss: 852.3361\n",
            "Epoch 171/500\n",
            "77/77 [==============================] - 1s 7ms/step - loss: 662.8841 - val_loss: 754.7947\n",
            "Epoch 172/500\n",
            "77/77 [==============================] - 0s 6ms/step - loss: 667.0330 - val_loss: 712.4122\n",
            "Epoch 173/500\n",
            "77/77 [==============================] - 0s 6ms/step - loss: 671.2895 - val_loss: 775.2196\n",
            "Epoch 174/500\n",
            "77/77 [==============================] - 0s 6ms/step - loss: 661.3883 - val_loss: 785.9037\n",
            "Epoch 175/500\n",
            "77/77 [==============================] - 1s 7ms/step - loss: 656.2770 - val_loss: 1243.3276\n",
            "Epoch 176/500\n",
            "77/77 [==============================] - 1s 8ms/step - loss: 678.6849 - val_loss: 986.1667\n",
            "Epoch 177/500\n",
            "77/77 [==============================] - 0s 6ms/step - loss: 661.4768 - val_loss: 744.6995\n",
            "Epoch 178/500\n",
            "77/77 [==============================] - 1s 7ms/step - loss: 641.8025 - val_loss: 938.7932\n",
            "Epoch 179/500\n",
            "77/77 [==============================] - 0s 6ms/step - loss: 672.0716 - val_loss: 970.8828\n",
            "Epoch 180/500\n",
            "77/77 [==============================] - 0s 6ms/step - loss: 672.7629 - val_loss: 1116.3988\n",
            "Epoch 181/500\n",
            "77/77 [==============================] - 0s 6ms/step - loss: 678.6228 - val_loss: 794.1991\n",
            "Epoch 182/500\n",
            "77/77 [==============================] - 0s 6ms/step - loss: 662.1119 - val_loss: 1634.5535\n",
            "Epoch 183/500\n",
            "77/77 [==============================] - 1s 7ms/step - loss: 694.2725 - val_loss: 1165.6558\n",
            "Epoch 184/500\n",
            "77/77 [==============================] - 0s 6ms/step - loss: 681.9540 - val_loss: 835.0922\n",
            "Epoch 185/500\n",
            "77/77 [==============================] - 1s 6ms/step - loss: 650.8704 - val_loss: 933.1375\n",
            "Epoch 186/500\n",
            "77/77 [==============================] - 1s 7ms/step - loss: 668.1526 - val_loss: 947.8691\n",
            "Epoch 187/500\n",
            "77/77 [==============================] - 0s 6ms/step - loss: 707.8116 - val_loss: 957.8754\n",
            "Epoch 188/500\n",
            "77/77 [==============================] - 1s 7ms/step - loss: 652.0384 - val_loss: 921.1957\n",
            "Epoch 189/500\n",
            "77/77 [==============================] - 0s 6ms/step - loss: 664.4857 - val_loss: 667.3027\n",
            "Epoch 190/500\n",
            "77/77 [==============================] - 1s 7ms/step - loss: 668.3594 - val_loss: 934.3388\n",
            "Epoch 191/500\n",
            "77/77 [==============================] - 1s 7ms/step - loss: 626.9858 - val_loss: 799.8467\n",
            "Epoch 192/500\n",
            "77/77 [==============================] - 1s 7ms/step - loss: 659.3473 - val_loss: 995.8295\n",
            "Epoch 193/500\n",
            "77/77 [==============================] - 1s 8ms/step - loss: 634.5332 - val_loss: 722.8411\n",
            "Epoch 194/500\n",
            "77/77 [==============================] - 1s 6ms/step - loss: 638.3403 - val_loss: 836.3627\n",
            "Epoch 195/500\n",
            "77/77 [==============================] - 0s 6ms/step - loss: 666.4039 - val_loss: 1075.4430\n",
            "Epoch 196/500\n",
            "77/77 [==============================] - 1s 7ms/step - loss: 655.4714 - val_loss: 1687.2856\n",
            "Epoch 197/500\n",
            "77/77 [==============================] - 1s 9ms/step - loss: 713.7983 - val_loss: 1161.0381\n",
            "Epoch 198/500\n",
            "77/77 [==============================] - 0s 6ms/step - loss: 654.3128 - val_loss: 836.7905\n",
            "Epoch 199/500\n",
            "77/77 [==============================] - 0s 6ms/step - loss: 678.1038 - val_loss: 1066.6653\n",
            "Epoch 200/500\n",
            "77/77 [==============================] - 0s 6ms/step - loss: 650.3535 - val_loss: 827.8848\n",
            "Epoch 201/500\n",
            "77/77 [==============================] - 0s 6ms/step - loss: 641.0479 - val_loss: 712.5933\n",
            "Epoch 202/500\n",
            "77/77 [==============================] - 1s 8ms/step - loss: 684.7399 - val_loss: 954.2603\n",
            "Epoch 203/500\n",
            "77/77 [==============================] - 1s 7ms/step - loss: 731.8672 - val_loss: 872.7515\n",
            "Epoch 204/500\n",
            "77/77 [==============================] - 1s 7ms/step - loss: 647.0812 - val_loss: 1067.5568\n",
            "Epoch 205/500\n",
            "77/77 [==============================] - 1s 7ms/step - loss: 652.6352 - val_loss: 904.7863\n",
            "Epoch 206/500\n",
            "77/77 [==============================] - 0s 6ms/step - loss: 648.5179 - val_loss: 972.4181\n",
            "Epoch 207/500\n",
            "77/77 [==============================] - 1s 7ms/step - loss: 638.2705 - val_loss: 1029.5579\n",
            "Epoch 208/500\n",
            "77/77 [==============================] - 0s 6ms/step - loss: 678.0991 - val_loss: 1205.9845\n",
            "Epoch 209/500\n",
            "77/77 [==============================] - 0s 6ms/step - loss: 659.5646 - val_loss: 803.1188\n",
            "Epoch 210/500\n",
            "77/77 [==============================] - 0s 6ms/step - loss: 654.5070 - val_loss: 778.6083\n",
            "Epoch 211/500\n",
            "77/77 [==============================] - 1s 7ms/step - loss: 646.8086 - val_loss: 851.7076\n",
            "Epoch 212/500\n",
            "77/77 [==============================] - 1s 7ms/step - loss: 656.8235 - val_loss: 1233.2588\n",
            "Epoch 213/500\n",
            "77/77 [==============================] - 1s 7ms/step - loss: 641.8126 - val_loss: 715.2426\n",
            "Epoch 214/500\n",
            "77/77 [==============================] - 0s 6ms/step - loss: 625.8268 - val_loss: 771.7599\n",
            "Epoch 00214: early stopping\n"
          ],
          "name": "stdout"
        },
        {
          "output_type": "execute_result",
          "data": {
            "text/plain": [
              "<tensorflow.python.keras.callbacks.History at 0x7f435e9f5080>"
            ]
          },
          "metadata": {
            "tags": []
          },
          "execution_count": 72
        }
      ]
    },
    {
      "cell_type": "code",
      "metadata": {
        "id": "hr3aiKqLOQ6M",
        "colab_type": "code",
        "outputId": "9a7d1355-b022-45f2-e1fc-ef8248c0b46a",
        "colab": {
          "base_uri": "https://localhost:8080/",
          "height": 419
        }
      },
      "source": [
        "# So there are 214 iterations. Let's recap our training loss vs validation loss, and make it to DataFrame.\n",
        "\n",
        "model_loss = pd.DataFrame(model.history.history)\n",
        "model_loss"
      ],
      "execution_count": 0,
      "outputs": [
        {
          "output_type": "execute_result",
          "data": {
            "text/html": [
              "<div>\n",
              "<style scoped>\n",
              "    .dataframe tbody tr th:only-of-type {\n",
              "        vertical-align: middle;\n",
              "    }\n",
              "\n",
              "    .dataframe tbody tr th {\n",
              "        vertical-align: top;\n",
              "    }\n",
              "\n",
              "    .dataframe thead th {\n",
              "        text-align: right;\n",
              "    }\n",
              "</style>\n",
              "<table border=\"1\" class=\"dataframe\">\n",
              "  <thead>\n",
              "    <tr style=\"text-align: right;\">\n",
              "      <th></th>\n",
              "      <th>loss</th>\n",
              "      <th>val_loss</th>\n",
              "    </tr>\n",
              "  </thead>\n",
              "  <tbody>\n",
              "    <tr>\n",
              "      <th>0</th>\n",
              "      <td>5.241865e+06</td>\n",
              "      <td>5.459448e+06</td>\n",
              "    </tr>\n",
              "    <tr>\n",
              "      <th>1</th>\n",
              "      <td>5.239880e+06</td>\n",
              "      <td>5.455414e+06</td>\n",
              "    </tr>\n",
              "    <tr>\n",
              "      <th>2</th>\n",
              "      <td>5.231770e+06</td>\n",
              "      <td>5.443294e+06</td>\n",
              "    </tr>\n",
              "    <tr>\n",
              "      <th>3</th>\n",
              "      <td>5.217286e+06</td>\n",
              "      <td>5.426388e+06</td>\n",
              "    </tr>\n",
              "    <tr>\n",
              "      <th>4</th>\n",
              "      <td>5.198236e+06</td>\n",
              "      <td>5.404889e+06</td>\n",
              "    </tr>\n",
              "    <tr>\n",
              "      <th>...</th>\n",
              "      <td>...</td>\n",
              "      <td>...</td>\n",
              "    </tr>\n",
              "    <tr>\n",
              "      <th>209</th>\n",
              "      <td>6.545070e+02</td>\n",
              "      <td>7.786083e+02</td>\n",
              "    </tr>\n",
              "    <tr>\n",
              "      <th>210</th>\n",
              "      <td>6.468086e+02</td>\n",
              "      <td>8.517076e+02</td>\n",
              "    </tr>\n",
              "    <tr>\n",
              "      <th>211</th>\n",
              "      <td>6.568235e+02</td>\n",
              "      <td>1.233259e+03</td>\n",
              "    </tr>\n",
              "    <tr>\n",
              "      <th>212</th>\n",
              "      <td>6.418126e+02</td>\n",
              "      <td>7.152426e+02</td>\n",
              "    </tr>\n",
              "    <tr>\n",
              "      <th>213</th>\n",
              "      <td>6.258268e+02</td>\n",
              "      <td>7.717599e+02</td>\n",
              "    </tr>\n",
              "  </tbody>\n",
              "</table>\n",
              "<p>214 rows × 2 columns</p>\n",
              "</div>"
            ],
            "text/plain": [
              "             loss      val_loss\n",
              "0    5.241865e+06  5.459448e+06\n",
              "1    5.239880e+06  5.455414e+06\n",
              "2    5.231770e+06  5.443294e+06\n",
              "3    5.217286e+06  5.426388e+06\n",
              "4    5.198236e+06  5.404889e+06\n",
              "..            ...           ...\n",
              "209  6.545070e+02  7.786083e+02\n",
              "210  6.468086e+02  8.517076e+02\n",
              "211  6.568235e+02  1.233259e+03\n",
              "212  6.418126e+02  7.152426e+02\n",
              "213  6.258268e+02  7.717599e+02\n",
              "\n",
              "[214 rows x 2 columns]"
            ]
          },
          "metadata": {
            "tags": []
          },
          "execution_count": 75
        }
      ]
    },
    {
      "cell_type": "code",
      "metadata": {
        "id": "TTML7TdWOfyZ",
        "colab_type": "code",
        "outputId": "45efa449-e9fe-4460-f1ff-655b71f0a995",
        "colab": {
          "base_uri": "https://localhost:8080/",
          "height": 352
        }
      },
      "source": [
        "plt.figure(figsize = (12,6))\n",
        "model_loss.plot()\n",
        "plt.xlabel('n of Epochs')"
      ],
      "execution_count": 0,
      "outputs": [
        {
          "output_type": "execute_result",
          "data": {
            "text/plain": [
              "Text(0.5, 0, 'n of Epochs')"
            ]
          },
          "metadata": {
            "tags": []
          },
          "execution_count": 80
        },
        {
          "output_type": "display_data",
          "data": {
            "text/plain": [
              "<Figure size 864x432 with 0 Axes>"
            ]
          },
          "metadata": {
            "tags": []
          }
        },
        {
          "output_type": "display_data",
          "data": {
            "image/png": "[encoded data removed]",
            "text/plain": [
              "<Figure size 432x288 with 1 Axes>"
            ]
          },
          "metadata": {
            "tags": []
          }
        }
      ]
    },
    {
      "cell_type": "markdown",
      "metadata": {
        "id": "7B8DPMMEAO5H",
        "colab_type": "text"
      },
      "source": [
        "I can't believe this our model get \"just right\" form along the training. We see that 'training loss' and 'validation loss' walk along the side. It's beautiful graph that you could see."
      ]
    },
    {
      "cell_type": "markdown",
      "metadata": {
        "id": "ZbTiCZCZPfLY",
        "colab_type": "text"
      },
      "source": [
        "## 4) Predictions\n",
        "Training is done, let's get our model to predict and compare it with y_test dataset. We will see the value of RMSE and linear regression graph."
      ]
    },
    {
      "cell_type": "code",
      "metadata": {
        "id": "cxi7KEsIOlWK",
        "colab_type": "code",
        "colab": {}
      },
      "source": [
        "from sklearn.metrics import mean_squared_error, explained_variance_score"
      ],
      "execution_count": 0,
      "outputs": []
    },
    {
      "cell_type": "code",
      "metadata": {
        "id": "OLxEXfOWPqaX",
        "colab_type": "code",
        "colab": {}
      },
      "source": [
        "predictions = model.predict(X_test)"
      ],
      "execution_count": 0,
      "outputs": []
    },
    {
      "cell_type": "code",
      "metadata": {
        "id": "CVnFiCKdP1mV",
        "colab_type": "code",
        "outputId": "71e1024a-c2bc-476b-deab-16b16f887d9f",
        "colab": {
          "base_uri": "https://localhost:8080/",
          "height": 34
        }
      },
      "source": [
        "# MSE\n",
        "mean_squared_error(y_test, predictions)"
      ],
      "execution_count": 0,
      "outputs": [
        {
          "output_type": "execute_result",
          "data": {
            "text/plain": [
              "771.7598666940899"
            ]
          },
          "metadata": {
            "tags": []
          },
          "execution_count": 84
        }
      ]
    },
    {
      "cell_type": "code",
      "metadata": {
        "id": "JCFYJgggQBGM",
        "colab_type": "code",
        "outputId": "10a6399a-41cd-43e5-a30b-fabf8350df77",
        "colab": {
          "base_uri": "https://localhost:8080/",
          "height": 34
        }
      },
      "source": [
        "# RMSE\n",
        "np.sqrt(mean_squared_error(y_test, predictions))"
      ],
      "execution_count": 0,
      "outputs": [
        {
          "output_type": "execute_result",
          "data": {
            "text/plain": [
              "27.780566349412133"
            ]
          },
          "metadata": {
            "tags": []
          },
          "execution_count": 85
        }
      ]
    },
    {
      "cell_type": "code",
      "metadata": {
        "id": "qTlKm_HwQKSL",
        "colab_type": "code",
        "outputId": "7148ea1f-2891-4fa6-f441-6559247aa259",
        "colab": {
          "base_uri": "https://localhost:8080/",
          "height": 34
        }
      },
      "source": [
        "# Explained variance regression score function\n",
        "\n",
        "explained_variance_score(y_test, predictions)\n",
        "# Best possible score is 1.0, lower values are worse (sklearn)."
      ],
      "execution_count": 0,
      "outputs": [
        {
          "output_type": "execute_result",
          "data": {
            "text/plain": [
              "0.9995023478521047"
            ]
          },
          "metadata": {
            "tags": []
          },
          "execution_count": 86
        }
      ]
    },
    {
      "cell_type": "markdown",
      "metadata": {
        "id": "Ry2xx5qHDWox",
        "colab_type": "text"
      },
      "source": [
        "We see that we get the value of RMSE is 27.781. It's very small according to the context of stocks. Look at the 'explained variance score', we get 0.995. Our model just did a great job. So what if we plot our valid dataset with model's prediction? Could we get some nice line of regression?"
      ]
    },
    {
      "cell_type": "code",
      "metadata": {
        "id": "LFyJA2CXQWIN",
        "colab_type": "code",
        "outputId": "eaa4a1c6-218c-47f7-d22a-0d6c28419f27",
        "colab": {
          "base_uri": "https://localhost:8080/",
          "height": 458
        }
      },
      "source": [
        "plt.figure(figsize=(12,6))\n",
        "plt.scatter(y_test,predictions)\n",
        "plt.plot(y_test, y_test, 'r', linewidth = 2.5)\n",
        "plt.xlabel('y_test')\n",
        "plt.ylabel('predictions')\n",
        "plt.title('LSTM Model Prediction Evaluation')"
      ],
      "execution_count": 0,
      "outputs": [
        {
          "output_type": "execute_result",
          "data": {
            "text/plain": [
              "Text(0.5, 1.0, 'LSTM Model Prediction Evaluation')"
            ]
          },
          "metadata": {
            "tags": []
          },
          "execution_count": 90
        },
        {
          "output_type": "display_data",
          "data": {
            "image/png": "[encoded data removed]",
            "text/plain": [
              "<Figure size 864x432 with 1 Axes>"
            ]
          },
          "metadata": {
            "tags": []
          }
        }
      ]
    },
    {
      "cell_type": "markdown",
      "metadata": {
        "id": "PM4ZuG3KEFeV",
        "colab_type": "text"
      },
      "source": [
        "Still can't believe this that our model's predictions just fit with y_test dataset. It shows fit very well with few outliers there. It's okay. Let's try to predict closing price of BBRI on June 2nd."
      ]
    },
    {
      "cell_type": "markdown",
      "metadata": {
        "id": "wEn5ltPDTA3E",
        "colab_type": "text"
      },
      "source": [
        "## 5) Predict with another data on June 2nd, 2020\n",
        "First we get our dataset, then prepare it up into our model's prediction."
      ]
    },
    {
      "cell_type": "code",
      "metadata": {
        "id": "Q0RYlNEsSI_2",
        "colab_type": "code",
        "outputId": "f777c96c-87b8-4d4b-ad35-c0de90069b8b",
        "colab": {
          "base_uri": "https://localhost:8080/",
          "height": 111
        }
      },
      "source": [
        "# BBRI\n",
        "bbri2 = web.DataReader('bbri.jk', 'yahoo', '2020-06-02', '2020-06-02')\n",
        "bbri2"
      ],
      "execution_count": 0,
      "outputs": [
        {
          "output_type": "execute_result",
          "data": {
            "text/html": [
              "<div>\n",
              "<style scoped>\n",
              "    .dataframe tbody tr th:only-of-type {\n",
              "        vertical-align: middle;\n",
              "    }\n",
              "\n",
              "    .dataframe tbody tr th {\n",
              "        vertical-align: top;\n",
              "    }\n",
              "\n",
              "    .dataframe thead th {\n",
              "        text-align: right;\n",
              "    }\n",
              "</style>\n",
              "<table border=\"1\" class=\"dataframe\">\n",
              "  <thead>\n",
              "    <tr style=\"text-align: right;\">\n",
              "      <th></th>\n",
              "      <th>High</th>\n",
              "      <th>Low</th>\n",
              "      <th>Open</th>\n",
              "      <th>Close</th>\n",
              "      <th>Volume</th>\n",
              "      <th>Adj Close</th>\n",
              "    </tr>\n",
              "    <tr>\n",
              "      <th>Date</th>\n",
              "      <th></th>\n",
              "      <th></th>\n",
              "      <th></th>\n",
              "      <th></th>\n",
              "      <th></th>\n",
              "      <th></th>\n",
              "    </tr>\n",
              "  </thead>\n",
              "  <tbody>\n",
              "    <tr>\n",
              "      <th>2020-06-02</th>\n",
              "      <td>3290</td>\n",
              "      <td>2950</td>\n",
              "      <td>2950</td>\n",
              "      <td>3180</td>\n",
              "      <td>467460800</td>\n",
              "      <td>3180</td>\n",
              "    </tr>\n",
              "  </tbody>\n",
              "</table>\n",
              "</div>"
            ],
            "text/plain": [
              "            High   Low  Open  Close     Volume  Adj Close\n",
              "Date                                                     \n",
              "2020-06-02  3290  2950  2950   3180  467460800       3180"
            ]
          },
          "metadata": {
            "tags": []
          },
          "execution_count": 114
        }
      ]
    },
    {
      "cell_type": "code",
      "metadata": {
        "id": "-EyLSuw8TWSe",
        "colab_type": "code",
        "colab": {}
      },
      "source": [
        "bbri2 = bbri2.drop('Close', axis = 1)"
      ],
      "execution_count": 0,
      "outputs": []
    },
    {
      "cell_type": "code",
      "metadata": {
        "id": "Q2mU7JsqVgHO",
        "colab_type": "code",
        "colab": {}
      },
      "source": [
        "bbri2 = bbri2.values"
      ],
      "execution_count": 0,
      "outputs": []
    },
    {
      "cell_type": "code",
      "metadata": {
        "id": "YA6ySl3RT6GC",
        "colab_type": "code",
        "colab": {}
      },
      "source": [
        "bbri2 = scaler.transform(bbri2)"
      ],
      "execution_count": 0,
      "outputs": []
    },
    {
      "cell_type": "code",
      "metadata": {
        "id": "WOH1hPCOTsXD",
        "colab_type": "code",
        "colab": {}
      },
      "source": [
        "bbri2 = bbri2.reshape(-1, 5, 1)\n"
      ],
      "execution_count": 0,
      "outputs": []
    },
    {
      "cell_type": "code",
      "metadata": {
        "id": "IkA8jbDxUY27",
        "colab_type": "code",
        "outputId": "01cfafff-fc93-47dc-a98a-931172e4b54c",
        "colab": {
          "base_uri": "https://localhost:8080/",
          "height": 34
        }
      },
      "source": [
        "model.predict(bbri2)"
      ],
      "execution_count": 0,
      "outputs": [
        {
          "output_type": "execute_result",
          "data": {
            "text/plain": [
              "array([[3152.028]], dtype=float32)"
            ]
          },
          "metadata": {
            "tags": []
          },
          "execution_count": 123
        }
      ]
    },
    {
      "cell_type": "markdown",
      "metadata": {
        "id": "G1unw9eYFP9h",
        "colab_type": "text"
      },
      "source": [
        "Our model predicts 3152 of BBRI's closing price on June 2nd, 2020 while the actual close price is 3180. Well, that's not bad though since our model's RMSE is about 27 units and the evaluation just fit between its predictions and y_test dataset."
      ]
    }
  ]
}